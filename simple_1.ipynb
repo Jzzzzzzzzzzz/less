{
 "cells": [
  {
   "cell_type": "code",
   "execution_count": 2,
   "metadata": {},
   "outputs": [],
   "source": [
    "import numpy as np"
   ]
  },
  {
   "cell_type": "markdown",
   "metadata": {},
   "source": [
    "# Анализ данных с использованием библиотеки NumPy\n",
    "\n",
    "## Создание массивов\n",
    "1. Создайте одномерный массив из 10 случайных чисел.\n",
    "\n",
    "2. Создайте двумерный массив размером 3x3, содержащий случайные числа.\n",
    "\n",
    "3. Создайте массив с числами от 1 до 20 включительно с шагом 2.\n"
   ]
  },
  {
   "cell_type": "code",
   "execution_count": 6,
   "metadata": {},
   "outputs": [
    {
     "data": {
      "text/plain": [
       "array([0.26435453, 0.4025133 , 0.26977843, 0.94020432, 0.41697849,\n",
       "       0.96894006, 0.58236479, 0.73531022, 0.26932456, 0.94685488])"
      ]
     },
     "execution_count": 6,
     "metadata": {},
     "output_type": "execute_result"
    }
   ],
   "source": [
    "np.random.sample(10)"
   ]
  },
  {
   "cell_type": "code",
   "execution_count": 149,
   "metadata": {},
   "outputs": [
    {
     "data": {
      "text/plain": [
       "array([[0.90782985, 0.56929338, 0.77118085],\n",
       "       [0.1380946 , 0.8876025 , 0.49353323],\n",
       "       [0.27495801, 0.91995726, 0.88434164]])"
      ]
     },
     "execution_count": 149,
     "metadata": {},
     "output_type": "execute_result"
    }
   ],
   "source": [
    "# np.array([[1.5, 2, 3], [4, 5, 6]]) \n",
    "a=np.random.rand(3,3)\n",
    "a\n"
   ]
  },
  {
   "cell_type": "code",
   "execution_count": 50,
   "metadata": {},
   "outputs": [
    {
     "data": {
      "text/plain": [
       "array([ 2,  4,  6,  8, 10, 12, 14, 16, 18, 20])"
      ]
     },
     "execution_count": 50,
     "metadata": {},
     "output_type": "execute_result"
    }
   ],
   "source": [
    "np.arange(1,20,2)\n",
    "\n",
    "np.arange(1,20,2)+1\n",
    "\n",
    "   \n"
   ]
  },
  {
   "cell_type": "markdown",
   "metadata": {},
   "source": [
    "\n",
    "## Информация о массиве\n",
    "4. Выведите форму (размер) массива из задачи 2, используя атрибут `shape`.\n",
    "\n",
    "5. Определите тип данных элементов массива из задачи 3, используя атрибут `dtype`.\n"
   ]
  },
  {
   "cell_type": "code",
   "execution_count": 150,
   "metadata": {},
   "outputs": [
    {
     "data": {
      "text/plain": [
       "(3, 3)"
      ]
     },
     "execution_count": 150,
     "metadata": {},
     "output_type": "execute_result"
    }
   ],
   "source": [
    "a.shape"
   ]
  },
  {
   "cell_type": "code",
   "execution_count": 153,
   "metadata": {},
   "outputs": [
    {
     "data": {
      "text/plain": [
       "dtype('int32')"
      ]
     },
     "execution_count": 153,
     "metadata": {},
     "output_type": "execute_result"
    }
   ],
   "source": [
    "np.arange(1,20,2).dtype\n",
    "\n",
    "(np.arange(1,20,2)+1).dtype"
   ]
  },
  {
   "cell_type": "markdown",
   "metadata": {},
   "source": [
    "\n",
    "## Операции с массивами\n",
    "6. Умножьте каждый элемент массива из задачи 1 на 3.\n",
    "\n",
    "7. Посчитайте сумму элементов массива из задачи 2 по каждой оси, используя функцию `np.sum()`.\n"
   ]
  },
  {
   "cell_type": "code",
   "execution_count": 314,
   "metadata": {},
   "outputs": [
    {
     "name": "stdout",
     "output_type": "stream",
     "text": [
      "[1.30457043 1.82578759 1.63898844 0.05023955 0.70484427 1.81605209\n",
      " 0.88919266 1.84935167 1.82581957 2.89621761]\n"
     ]
    }
   ],
   "source": [
    "a=np.random.sample(10)\n",
    "print(a*3)"
   ]
  },
  {
   "cell_type": "code",
   "execution_count": 328,
   "metadata": {},
   "outputs": [
    {
     "data": {
      "text/plain": [
       "4.490967066195532"
      ]
     },
     "execution_count": 328,
     "metadata": {},
     "output_type": "execute_result"
    }
   ],
   "source": [
    "a=np.random.rand(3,3).sum()\n",
    "a\n"
   ]
  },
  {
   "cell_type": "markdown",
   "metadata": {},
   "source": [
    "\n",
    "## Индексация и срезы\n",
    "8. Получите элемент из середины массива из задачи 1.\n",
    "\n",
    "9. Выделите подматрицу размером 2x2 из массива задачи 2.\n"
   ]
  },
  {
   "cell_type": "code",
   "execution_count": 340,
   "metadata": {},
   "outputs": [
    {
     "data": {
      "text/plain": [
       "0.8102309810972235"
      ]
     },
     "execution_count": 340,
     "metadata": {},
     "output_type": "execute_result"
    }
   ],
   "source": [
    "np.random.sample(10)[4]"
   ]
  },
  {
   "cell_type": "markdown",
   "metadata": {},
   "source": []
  },
  {
   "cell_type": "code",
   "execution_count": 426,
   "metadata": {},
   "outputs": [
    {
     "data": {
      "text/plain": [
       "array([[0.20654182, 0.88547244],\n",
       "       [0.02627232, 0.98985313]])"
      ]
     },
     "execution_count": 426,
     "metadata": {},
     "output_type": "execute_result"
    }
   ],
   "source": [
    "a=np.random.rand(3,3)\n",
    "a=a[:2,:2]\n",
    "a"
   ]
  },
  {
   "cell_type": "markdown",
   "metadata": {},
   "source": [
    "\n",
    "## Статистика и агрегация\n",
    "10. Найдите среднее значение всех элементов массива из задачи 1, используя функцию `np.mean()`.\n",
    "\n",
    "11. Найдите максимальное значение в каждой строке массива из задачи 2, используя функцию `np.max()`.\n"
   ]
  },
  {
   "cell_type": "code",
   "execution_count": 435,
   "metadata": {},
   "outputs": [
    {
     "data": {
      "text/plain": [
       "0.5455120468698055"
      ]
     },
     "execution_count": 435,
     "metadata": {},
     "output_type": "execute_result"
    }
   ],
   "source": [
    "# np.random.sample(10).mean()\n",
    "matr=np.random.sample(10)\n",
    "np.mean(matr)\n",
    "\n"
   ]
  },
  {
   "cell_type": "code",
   "execution_count": 20,
   "metadata": {},
   "outputs": [
    {
     "data": {
      "text/plain": [
       "0.9869504786418554"
      ]
     },
     "execution_count": 20,
     "metadata": {},
     "output_type": "execute_result"
    }
   ],
   "source": [
    "np.random.rand(3,3).max()"
   ]
  },
  {
   "cell_type": "markdown",
   "metadata": {},
   "source": [
    "\n",
    "## Логические операции\n",
    "12. Создайте логический массив, проверяющий, какие элементы массива из задачи 1 больше 5.\n",
    "\n",
    "13. Получите только те элементы массива из задачи 3, которые делятся на 3 без остатка.\n"
   ]
  },
  {
   "cell_type": "code",
   "execution_count": 68,
   "metadata": {},
   "outputs": [
    {
     "name": "stdout",
     "output_type": "stream",
     "text": [
      "[9.18187403 9.28286131 1.47580014 9.13001178 4.50304952 1.76391234\n",
      " 5.69941858 3.63499744 8.13575882 1.34347164]\n",
      "9.181874030941712\n",
      "9.282861311226938\n",
      "9.130011775112871\n",
      "5.69941858059112\n",
      "8.135758815120305\n"
     ]
    }
   ],
   "source": [
    "# a=np.random.sample(10)+11 \n",
    "a = np.random.uniform(1, 10, 10)\n",
    "print(a)\n",
    "for i in a:\n",
    "    if i > 5:\n",
    "        # print(i)\n",
    "        True\n"
   ]
  },
  {
   "cell_type": "code",
   "execution_count": 113,
   "metadata": {},
   "outputs": [
    {
     "name": "stdout",
     "output_type": "stream",
     "text": [
      "3\n",
      "9\n",
      "15\n"
     ]
    }
   ],
   "source": [
    "a=np.arange(1,20,2)\n",
    "\n",
    "# np.arange(1,20,2)+1\n",
    "\n",
    "for i in a:\n",
    "    if i % 3 == 0:\n",
    "        print(i)\n",
    "   \n"
   ]
  },
  {
   "cell_type": "markdown",
   "metadata": {},
   "source": [
    "\n",
    "## Работа с формой массива\n",
    "14. Преобразуйте одномерный массив из задачи 1 в двумерный массив размером 2x5, используя метод `reshape()`.\n",
    "\n",
    "15. Транспонируйте массив из задачи 2, используя метод `T`.\n"
   ]
  },
  {
   "cell_type": "markdown",
   "metadata": {},
   "source": []
  },
  {
   "cell_type": "code",
   "execution_count": 111,
   "metadata": {},
   "outputs": [
    {
     "data": {
      "text/plain": [
       "array([[0.69686705, 0.11115488, 0.72444723, 0.48648232, 0.63787381],\n",
       "       [0.86389008, 0.5265839 , 0.13567637, 0.94902998, 0.98926517]])"
      ]
     },
     "execution_count": 111,
     "metadata": {},
     "output_type": "execute_result"
    }
   ],
   "source": [
    "np.random.sample(10).reshape(2,5)\n"
   ]
  },
  {
   "cell_type": "code",
   "execution_count": 9,
   "metadata": {},
   "outputs": [
    {
     "data": {
      "text/plain": [
       "array([[0.5417452 , 0.28753044, 0.20661129],\n",
       "       [0.42192614, 0.85619782, 0.67144961],\n",
       "       [0.04358441, 0.96445424, 0.10093276]])"
      ]
     },
     "execution_count": 9,
     "metadata": {},
     "output_type": "execute_result"
    }
   ],
   "source": [
    "np.random.rand(3,3).T"
   ]
  },
  {
   "cell_type": "markdown",
   "metadata": {},
   "source": [
    "\n",
    "## Сортировка и индексация\n",
    "16. Отсортируйте элементы массива из задачи 1 по убыванию, используя функцию `np.sort()`.\n",
    "\n",
    "17. Найдите индексы минимальных значений в каждом столбце массива из задачи 2, используя функцию `np.argmin()`.\n"
   ]
  },
  {
   "cell_type": "code",
   "execution_count": 154,
   "metadata": {},
   "outputs": [
    {
     "data": {
      "text/plain": [
       "array([9, 8, 7, 6, 5, 4, 3, 2, 1, 0])"
      ]
     },
     "execution_count": 154,
     "metadata": {},
     "output_type": "execute_result"
    }
   ],
   "source": [
    "a=np.random.sample(10)\n",
    "a=np.sort(a)[::-1]\n",
    "# arr = np.array([0, 100000000000000000000000000, 100000000000000000000000000, 100000000000000000000000000, 100000000000000000000000000, 100000000000000000000000000, 100000000000000000000000000,100000000000000000000000000, 100000000000000000000000000, 100000000000000000000000000])\n",
    "# arr = np.sort(arr)[::-1]\n",
    "a"
   ]
  },
  {
   "cell_type": "code",
   "execution_count": 211,
   "metadata": {},
   "outputs": [
    {
     "name": "stdout",
     "output_type": "stream",
     "text": [
      "[0 0 0]\n"
     ]
    }
   ],
   "source": [
    "a=np.random.rand(3,3)\n",
    "a=np.argmin(a,axis=0)#столбец \n",
    "# a=np.argmin(a,axis=1) строка\n",
    "print(a)\n",
    "\n",
    "# a=np.argmin(a)\n",
    "# a"
   ]
  },
  {
   "cell_type": "markdown",
   "metadata": {},
   "source": [
    "\n",
    "## Уникальные значения\n",
    "18. Найдите уникальные значения в массиве из задачи 1, используя функцию `np.unique()`.\n",
    "\n",
    "19. Посчитайте количество повторяющихся элементов в массиве из задачи 3, используя функцию `np.bincount()`.\n"
   ]
  },
  {
   "cell_type": "code",
   "execution_count": 223,
   "metadata": {},
   "outputs": [
    {
     "data": {
      "text/plain": [
       "array([0.14818097, 0.28603739, 0.37347898, 0.39384888, 0.50005344,\n",
       "       0.53249871, 0.70024439, 0.88240148, 0.91426502, 0.94663187])"
      ]
     },
     "execution_count": 223,
     "metadata": {},
     "output_type": "execute_result"
    }
   ],
   "source": [
    "a=np.random.sample(10)\n",
    "a=np.unique(a)\n",
    "a"
   ]
  },
  {
   "cell_type": "code",
   "execution_count": 233,
   "metadata": {},
   "outputs": [
    {
     "data": {
      "text/plain": [
       "0"
      ]
     },
     "execution_count": 233,
     "metadata": {},
     "output_type": "execute_result"
    }
   ],
   "source": [
    "a = np.arange(1,20,2)\n",
    "a = (np.bincount(a))\n",
    "count = 0\n",
    "for i in a:\n",
    "    if i > 1:\n",
    "        count+=1\n",
    "count\n",
    "\n"
   ]
  },
  {
   "cell_type": "markdown",
   "metadata": {},
   "source": [
    "\n",
    "## Линейная алгебра\n",
    "20. Выполните матричное умножение двух массивов размером 3x3 из задачи 2, используя функцию `np.dot()`.\n",
    "\n",
    "21. Решите систему линейных уравнений: `2x + y = 8` и `3x - y = 1`, используя функцию `np.linalg.solve()`.\n"
   ]
  },
  {
   "cell_type": "code",
   "execution_count": 244,
   "metadata": {},
   "outputs": [
    {
     "data": {
      "text/plain": [
       "array([[0.12162217, 0.3388185 , 1.56147361],\n",
       "       [0.14959043, 0.56654042, 1.51838087],\n",
       "       [0.14473802, 0.50246896, 1.51531752]])"
      ]
     },
     "execution_count": 244,
     "metadata": {},
     "output_type": "execute_result"
    }
   ],
   "source": [
    "arr=np.random.rand(3,3)\n",
    "# print(arr)\n",
    "arr1=np.random.rand(3,3)\n",
    "# print(arr1)\n",
    "dot = np.dot(arr,arr1)\n",
    "dot\n"
   ]
  },
  {
   "cell_type": "code",
   "execution_count": 295,
   "metadata": {},
   "outputs": [
    {
     "name": "stdout",
     "output_type": "stream",
     "text": [
      "1.8 4.4\n"
     ]
    }
   ],
   "source": [
    "arr = np.array([[2,1], [3,-1]])\n",
    "arr1 = np.array([8,1])\n",
    "x=np.linalg.solve(arr,arr1)\n",
    "print(x[0],x[1])"
   ]
  },
  {
   "cell_type": "markdown",
   "metadata": {},
   "source": [
    "\n",
    "## Векторизация\n",
    "22. Создайте функцию, которая принимает на вход массив и возвращает новый массив, содержащий квадраты элементов входного массива.\n",
    "\n",
    "23. Примените функцию из задачи 22 к массиву из задачи 1 с использованием векторизации.\n"
   ]
  },
  {
   "cell_type": "code",
   "execution_count": 309,
   "metadata": {},
   "outputs": [
    {
     "name": "stdout",
     "output_type": "stream",
     "text": [
      "[10000000000000000000000000000000000000000000000000000000000000000\n",
      " 10000000000000000000000000000000000000000000000000000000000000000]\n",
      "[10000000000000000000000000000000000000000000000000000000000000000\n",
      " 10000000000000000000000000000000000000000000000000000000000000000]\n"
     ]
    }
   ],
   "source": [
    "arr1=np.array([100000000000000000000000000000000,100000000000000000000000000000000])\n",
    "arr = np.square(arr1)\n",
    "print(arr)\n",
    "def Square(Array):\n",
    "    return np.square(Array)\n",
    "print((Square(arr1)))\n",
    "\n"
   ]
  },
  {
   "cell_type": "code",
   "execution_count": 315,
   "metadata": {},
   "outputs": [
    {
     "data": {
      "text/plain": [
       "<numpy.vectorize at 0x20fc23e67d0>"
      ]
     },
     "execution_count": 315,
     "metadata": {},
     "output_type": "execute_result"
    }
   ],
   "source": [
    "a=np.random.rand(3,3)\n",
    "vector = np.vectorize(Square(a))\n",
    "vector\n",
    "\n"
   ]
  },
  {
   "cell_type": "markdown",
   "metadata": {},
   "source": [
    "\n",
    "## Статистика\n",
    "24. Посчитайте медиану элементов массива из задачи 1, используя функцию `np.median()`.\n",
    "\n",
    "25. Найдите стандартное отклонение значений в каждой строке массива из задачи 2, используя функцию `np.std()`."
   ]
  },
  {
   "cell_type": "code",
   "execution_count": 317,
   "metadata": {},
   "outputs": [
    {
     "data": {
      "text/plain": [
       "0.340676562560587"
      ]
     },
     "execution_count": 317,
     "metadata": {},
     "output_type": "execute_result"
    }
   ],
   "source": [
    "a=np.random.rand(3,3)\n",
    "a=np.median(a)\n",
    "a\n"
   ]
  },
  {
   "cell_type": "code",
   "execution_count": 320,
   "metadata": {},
   "outputs": [
    {
     "data": {
      "text/plain": [
       "0.24733613847080718"
      ]
     },
     "execution_count": 320,
     "metadata": {},
     "output_type": "execute_result"
    }
   ],
   "source": [
    "a=np.random.rand(3,3)\n",
    "np.std(a)"
   ]
  }
 ],
 "metadata": {
  "kernelspec": {
   "display_name": "Python 3",
   "language": "python",
   "name": "python3"
  },
  "language_info": {
   "codemirror_mode": {
    "name": "ipython",
    "version": 3
   },
   "file_extension": ".py",
   "mimetype": "text/x-python",
   "name": "python",
   "nbconvert_exporter": "python",
   "pygments_lexer": "ipython3",
   "version": "3.10.7"
  }
 },
 "nbformat": 4,
 "nbformat_minor": 2
}
